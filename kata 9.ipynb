{
  "cells": [
    {
      "cell_type": "markdown",
      "metadata": {},
      "source": [
        "# Ejercicio: Uso de funciones en Python"
      ]
    },
    {
      "cell_type": "markdown",
      "metadata": {},
      "source": [
        "### Ejercicio 1: Trabajar con argumentos en funciones\n",
        "\n",
        "Los argumentos requeridos en las funciones se utilizan cuando las funciones necesitan que esos argumentos funcionen correctamente. En este ejercicio, construirás un informe de combustible que requiere información de varias ubicaciones de combustible en todo el cohete.\n",
        "\n"
      ]
    },
    {
      "cell_type": "markdown",
      "metadata": {},
      "source": [
        "> **TIP**\n",
        "> Dedica unos minutos para tratar de encontrar una solución. Luego desplázate hacia abajo hasta la parte inferior para ver si has logrado compilar el programa de acuerdo con las especificaciones\n",
        "\n",
        "Comienza por crear una función que necesite tres lecturas de combustible y devuelva un informe:"
      ]
    },
    {
      "cell_type": "code",
      "execution_count": 28,
      "metadata": {},
      "outputs": [],
      "source": [
        "# Función para leer 3 tanques de combustible y muestre el promedio\n",
        "def tanques_combustible(tanque_1, tanque_2, tanque_3):\n",
        "    promedio_combustible = (tanque_1 + tanque_2 + tanque_3)/3\n",
        "    return 'Reporte:' + f'\\n Tanque 1: {tanque_1}' + f'\\n Tanque 2: {tanque_2}' + f'\\n Tanque 3: {tanque_3}' + f'\\n Tanque promedio: {promedio_combustible}'"
      ]
    },
    {
      "cell_type": "markdown",
      "metadata": {},
      "source": [
        "Ahora que hemos definido la función de informes, vamos a comprobarlo. Para esta misión, los tanques no están llenos:"
      ]
    },
    {
      "cell_type": "code",
      "execution_count": 29,
      "metadata": {},
      "outputs": [
        {
          "name": "stdout",
          "output_type": "stream",
          "text": [
            "Reporte:\n",
            " Tanque 1: 10\n",
            " Tanque 2: 20\n",
            " Tanque 3: 30\n",
            " Tanque promedio: 20.0\n"
          ]
        }
      ],
      "source": [
        "\n",
        "# Llamamos a la función que genera el reporte print(funcion(tanque1, tanque2, tanque3))\n",
        "\n",
        "print(tanques_combustible(10, 20, 30))"
      ]
    },
    {
      "cell_type": "markdown",
      "metadata": {},
      "source": [
        "En lugar de simplemente crear el informe, la función también está calculando el promedio. Mejora la legibilidad extrayendo el cálculo promedio de la función en una nueva función para que el promedio se pueda hacer de forma independiente:"
      ]
    },
    {
      "cell_type": "code",
      "execution_count": 24,
      "metadata": {},
      "outputs": [],
      "source": [
        "# Función promedio \n",
        "def funcion_promedio(tanques):\n",
        "    tanquess = sum(tanques)\n",
        "    numero = len(tanques)\n",
        "    return tanquess / numero"
      ]
    },
    {
      "cell_type": "markdown",
      "metadata": {},
      "source": [
        "Ahora actualiza la función de informes para llamando a la nueva función del promedio:\n"
      ]
    },
    {
      "cell_type": "code",
      "execution_count": 31,
      "metadata": {},
      "outputs": [
        {
          "name": "stdout",
          "output_type": "stream",
          "text": [
            "Reporte:\n",
            " Tanque 1: 10\n",
            " Tanque 2: 20\n",
            " Tanque 3: 30\n",
            " Tanque promedio: 20.0\n"
          ]
        }
      ],
      "source": [
        "# Actualiza la función\n",
        "def tanques_combustible(tanque_1, tanque_2, tanque_3):\n",
        "    promedio_combustible = (tanque_1 + tanque_2 + tanque_3)/3\n",
        "    return 'Reporte:' + f'\\n Tanque 1: {tanque_1}' + f'\\n Tanque 2: {tanque_2}' + f'\\n Tanque 3: {tanque_3}' + f'\\n Tanque promedio: {funcion_promedio([tanque_1, tanque_2, tanque_3])}'\n",
        "\n",
        "print(tanques_combustible(10,20,30))"
      ]
    },
    {
      "cell_type": "markdown",
      "metadata": {},
      "source": [
        "> Recuerda: Lo importante es intentarlo, puedes auxiliarte de internet, libros, etc. El objetivo de una kata es la comprobación de la comprensión de la lección y su aplicación inmediata a la resolución de problemas. Go for it!"
      ]
    },
    {
      "cell_type": "markdown",
      "metadata": {},
      "source": [
        "## Ejercicio 2: Trabajo con argumentos de palabra clave"
      ]
    },
    {
      "cell_type": "markdown",
      "metadata": {},
      "source": [
        "### Ejercicio : Trabajar con argumentos de palabras clave en funciones\n",
        "En este ejercicio, construirás un informe de cohete que requiere varias piezas de información, como el tiempo hasta el destino, el combustible a la izquierda y el nombre del destino. Comienza por crear una función que creará un informe preciso de la misión:"
      ]
    },
    {
      "cell_type": "code",
      "execution_count": 38,
      "metadata": {},
      "outputs": [
        {
          "name": "stdout",
          "output_type": "stream",
          "text": [
            "\n",
            "    Mision a Marte\n",
            "    Tiempo total de vuelo: 38 minutos\n",
            "    Combustible restante: 500 litros\n",
            "    \n"
          ]
        }
      ],
      "source": [
        "# Función con un informe preciso de la misión. Considera hora de prelanzamiento, tiempo de vuelo, destino, tanque externo y tanque interno\n",
        "\n",
        "def informe_preciso(prelanzamiento, tiempo_de_vuelo, destino, tanque_externo, tanque_interno):\n",
        "    return f\"\"\"\n",
        "    Mision a {destino}\n",
        "    Tiempo total de vuelo: {prelanzamiento + tiempo_de_vuelo} minutos\n",
        "    Combustible restante: {tanque_externo + tanque_interno} litros\n",
        "    \"\"\"\n",
        "\n",
        "print(informe_preciso(9, 29, \"Marte\", 200, 300))\n"
      ]
    },
    {
      "cell_type": "markdown",
      "metadata": {},
      "source": [
        "La función es problemática porque no se puede adaptar para minutos adicionales o tanques adicionales de combustible. Hazlo más flexible permitiendo cualquier número de pasos basados en el tiempo y cualquier número de tanques. En lugar de usar *args y **kwargs, aprovecha el hecho de que puedes usar cualquier nombre que desees. Asegurate que la función sea más legible mediante el uso de nombres de variables que están asociados con las entradas, como *minutes y **fuel_reservoirs:"
      ]
    },
    {
      "cell_type": "code",
      "execution_count": 46,
      "metadata": {},
      "outputs": [
        {
          "name": "stdout",
          "output_type": "stream",
          "text": [
            "\n",
            "    Mision a Marte\n",
            "    Tiempo total de viaje: 46 minutos\n",
            "    Combustible sobrante: 500000\n",
            "    \n"
          ]
        }
      ],
      "source": [
        "# Escribe tu nueva función de reporte considerando lo anterior\n",
        "\n",
        "def informe_preciso(destino, *minutos, **reserva_combustible):\n",
        "    return f\"\"\"\n",
        "    Mision a {destino}\n",
        "    Tiempo total de viaje: {sum(minutos)} minutos\n",
        "    Combustible sobrante: {sum(reserva_combustible.values())}\n",
        "    \"\"\"\n",
        "\n",
        "print(informe_preciso(\"Marte\", 5, 20, 21, principal=300000, externo=200000))"
      ]
    },
    {
      "cell_type": "markdown",
      "metadata": {},
      "source": [
        "Debido a que el combustible que queda en los tanques es específico de cada tanque, actualiza la función para usar el nombre de cada tanque en el informe:"
      ]
    },
    {
      "cell_type": "code",
      "execution_count": 50,
      "metadata": {},
      "outputs": [
        {
          "ename": "NameError",
          "evalue": "name 'reserva' is not defined",
          "output_type": "error",
          "traceback": [
            "\u001b[1;31m---------------------------------------------------------------------------\u001b[0m",
            "\u001b[1;31mNameError\u001b[0m                                 Traceback (most recent call last)",
            "\u001b[1;32mc:\\Users\\licco\\Desktop\\LAUNCH X\\kata 9.ipynb Cell 18'\u001b[0m in \u001b[0;36m<module>\u001b[1;34m\u001b[0m\n\u001b[0;32m     <a href='vscode-notebook-cell:/c%3A/Users/licco/Desktop/LAUNCH%20X/kata%209.ipynb#ch0000017?line=9'>10</a>\u001b[0m         reporte \u001b[39m+\u001b[39m\u001b[39m=\u001b[39m \u001b[39mf\u001b[39m\u001b[39m\"\u001b[39m\u001b[39m{\u001b[39;00mtanque_principal\u001b[39m}\u001b[39;00m\u001b[39m tanque --> \u001b[39m\u001b[39m{\u001b[39;00mgalones\u001b[39m}\u001b[39;00m\u001b[39m gallons left\u001b[39m\u001b[39m\\n\u001b[39;00m\u001b[39m\"\u001b[39m\n\u001b[0;32m     <a href='vscode-notebook-cell:/c%3A/Users/licco/Desktop/LAUNCH%20X/kata%209.ipynb#ch0000017?line=10'>11</a>\u001b[0m     \u001b[39mreturn\u001b[39;00m main_report\n\u001b[1;32m---> <a href='vscode-notebook-cell:/c%3A/Users/licco/Desktop/LAUNCH%20X/kata%209.ipynb#ch0000017?line=12'>13</a>\u001b[0m \u001b[39mprint\u001b[39m(informe_preciso(\u001b[39m\"\u001b[39;49m\u001b[39mMoon\u001b[39;49m\u001b[39m\"\u001b[39;49m, \u001b[39m8\u001b[39;49m, \u001b[39m11\u001b[39;49m, \u001b[39m55\u001b[39;49m, main\u001b[39m=\u001b[39;49m\u001b[39m300000\u001b[39;49m, external\u001b[39m=\u001b[39;49m\u001b[39m200000\u001b[39;49m))\n",
            "\u001b[1;32mc:\\Users\\licco\\Desktop\\LAUNCH X\\kata 9.ipynb Cell 18'\u001b[0m in \u001b[0;36minforme_preciso\u001b[1;34m(destino, *minutos, **reserva_combustible)\u001b[0m\n\u001b[0;32m      <a href='vscode-notebook-cell:/c%3A/Users/licco/Desktop/LAUNCH%20X/kata%209.ipynb#ch0000017?line=2'>3</a>\u001b[0m \u001b[39mdef\u001b[39;00m \u001b[39minforme_preciso\u001b[39m(destino, \u001b[39m*\u001b[39mminutos, \u001b[39m*\u001b[39m\u001b[39m*\u001b[39mreserva_combustible):\n\u001b[0;32m      <a href='vscode-notebook-cell:/c%3A/Users/licco/Desktop/LAUNCH%20X/kata%209.ipynb#ch0000017?line=3'>4</a>\u001b[0m     reporte \u001b[39m=\u001b[39m \u001b[39mf\u001b[39m\u001b[39m\"\"\"\u001b[39m\n\u001b[0;32m      <a href='vscode-notebook-cell:/c%3A/Users/licco/Desktop/LAUNCH%20X/kata%209.ipynb#ch0000017?line=4'>5</a>\u001b[0m \u001b[39m    Mision a \u001b[39m\u001b[39m{\u001b[39;00mdestino\u001b[39m}\u001b[39;00m\n\u001b[0;32m      <a href='vscode-notebook-cell:/c%3A/Users/licco/Desktop/LAUNCH%20X/kata%209.ipynb#ch0000017?line=5'>6</a>\u001b[0m \u001b[39m    Tiempo de viaje: \u001b[39m\u001b[39m{\u001b[39;00m\u001b[39msum\u001b[39m(minutos)\u001b[39m}\u001b[39;00m\u001b[39m minutes\u001b[39m\n\u001b[0;32m      <a href='vscode-notebook-cell:/c%3A/Users/licco/Desktop/LAUNCH%20X/kata%209.ipynb#ch0000017?line=6'>7</a>\u001b[0m \u001b[39m    Cobmustible: \u001b[39m\u001b[39m{\u001b[39;00m\u001b[39msum\u001b[39m(reserva_combustible\u001b[39m.\u001b[39mvalues())\u001b[39m}\u001b[39;00m\n\u001b[0;32m      <a href='vscode-notebook-cell:/c%3A/Users/licco/Desktop/LAUNCH%20X/kata%209.ipynb#ch0000017?line=7'>8</a>\u001b[0m \u001b[39m    \u001b[39m\u001b[39m\"\"\"\u001b[39m\n\u001b[1;32m----> <a href='vscode-notebook-cell:/c%3A/Users/licco/Desktop/LAUNCH%20X/kata%209.ipynb#ch0000017?line=8'>9</a>\u001b[0m     \u001b[39mfor\u001b[39;00m tanque_principal, galones \u001b[39min\u001b[39;00m reserva\u001b[39m.\u001b[39mcombustible\u001b[39m.\u001b[39mitems():\n\u001b[0;32m     <a href='vscode-notebook-cell:/c%3A/Users/licco/Desktop/LAUNCH%20X/kata%209.ipynb#ch0000017?line=9'>10</a>\u001b[0m         reporte \u001b[39m+\u001b[39m\u001b[39m=\u001b[39m \u001b[39mf\u001b[39m\u001b[39m\"\u001b[39m\u001b[39m{\u001b[39;00mtanque_principal\u001b[39m}\u001b[39;00m\u001b[39m tanque --> \u001b[39m\u001b[39m{\u001b[39;00mgalones\u001b[39m}\u001b[39;00m\u001b[39m gallons left\u001b[39m\u001b[39m\\n\u001b[39;00m\u001b[39m\"\u001b[39m\n\u001b[0;32m     <a href='vscode-notebook-cell:/c%3A/Users/licco/Desktop/LAUNCH%20X/kata%209.ipynb#ch0000017?line=10'>11</a>\u001b[0m     \u001b[39mreturn\u001b[39;00m main_report\n",
            "\u001b[1;31mNameError\u001b[0m: name 'reserva' is not defined"
          ]
        }
      ],
      "source": [
        "# Escribe tu nueva función\n",
        "\n",
        "def informe_preciso(destino, *minutos, **reserva_combustible):\n",
        "    reporte = f\"\"\"\n",
        "    Mision a {destino}\n",
        "    Tiempo de viaje: {sum(minutos)} minutes\n",
        "    Cobmustible: {sum(reserva_combustible.values())}\n",
        "    \"\"\"\n",
        "    for tanque_principal, galones in reserva.combustible.items():\n",
        "        reporte += f\"{tanque_principal} tanque --> {galones} gallons left\\n\"\n",
        "    return main_report\n",
        "\n",
        "print(informe_preciso(\"Moon\", 8, 11, 55, main=300000, external=200000))"
      ]
    },
    {
      "cell_type": "markdown",
      "metadata": {},
      "source": [
        "## Soluciones"
      ]
    },
    {
      "cell_type": "markdown",
      "metadata": {},
      "source": [
        "## Ejercicio 1"
      ]
    },
    {
      "cell_type": "code",
      "execution_count": 8,
      "metadata": {},
      "outputs": [],
      "source": [
        "# Función para leer 3 tanques de combustible y muestre el promedio\n",
        "\n",
        "def generate_report(main_tank, external_tank, hydrogen_tank):\n",
        "    total_average = (main_tank + external_tank + hydrogen_tank) / 3\n",
        "    return f\"\"\"Fuel Report:\n",
        "    Total Average: {total_average}%\n",
        "    Main tank: {main_tank}%\n",
        "    External tank: {external_tank}%\n",
        "    Hydrogen tank: {hydrogen_tank}% \n",
        "    \"\"\"\n"
      ]
    },
    {
      "cell_type": "code",
      "execution_count": 9,
      "metadata": {},
      "outputs": [
        {
          "name": "stdout",
          "output_type": "stream",
          "text": [
            "Fuel Report:\n",
            "    Total Average: 78.33333333333333%\n",
            "    Main tank: 80%\n",
            "    External tank: 70%\n",
            "    Hydrogen tank: 85% \n",
            "    \n"
          ]
        }
      ],
      "source": [
        "# Llamamos a la función que genera el reporte print(funcion(tanque1, tanque2, tanque3))\n",
        "print(generate_report(80, 70, 85))"
      ]
    },
    {
      "cell_type": "code",
      "execution_count": 23,
      "metadata": {},
      "outputs": [
        {
          "data": {
            "text/plain": [
              "82.0"
            ]
          },
          "execution_count": 23,
          "metadata": {},
          "output_type": "execute_result"
        }
      ],
      "source": [
        "# Función promedio \n",
        "def average(values):\n",
        "    total = sum(values)\n",
        "    number_of_items = len(values)\n",
        "    return total / number_of_items\n",
        "\n",
        "# Test the averaging function with a list of integers:\n",
        "average([80, 85, 81]) "
      ]
    },
    {
      "cell_type": "code",
      "execution_count": 33,
      "metadata": {},
      "outputs": [
        {
          "name": "stdout",
          "output_type": "stream",
          "text": [
            "Fuel Report:\n",
            "    Total Average: 78.33333333333333%\n",
            "    Main tank: 80%\n",
            "    External tank: 70%\n",
            "    Hydrogen tank: 85% \n",
            "    \n"
          ]
        }
      ],
      "source": [
        "# Actualiza la función\n",
        "def generate_report(main_tank, external_tank, hydrogen_tank):\n",
        "    return f\"\"\"Fuel Report:\n",
        "    Total Average: {average([main_tank, external_tank, hydrogen_tank])}%\n",
        "    Main tank: {main_tank}%\n",
        "    External tank: {external_tank}%\n",
        "    Hydrogen tank: {hydrogen_tank}% \n",
        "    \"\"\"\n",
        "\n",
        "# Call the updated function again with different values\n",
        "print(generate_report(80, 70, 85))"
      ]
    },
    {
      "cell_type": "markdown",
      "metadata": {},
      "source": [
        "### Ejercicio 2:"
      ]
    },
    {
      "cell_type": "code",
      "execution_count": null,
      "metadata": {},
      "outputs": [],
      "source": [
        "# Función con un informe preciso de la misión. Considera hora de prelanzamiento, tiempo de vuelo, destino, tanque externo y tanque interno\n",
        "\n",
        "def mission_report(pre_launch_time, flight_time, destination, external_tank, main_tank):\n",
        "    return f\"\"\"\n",
        "    Mission to {destination}\n",
        "    Total travel time: {pre_launch_time + flight_time} minutes\n",
        "    Total fuel left: {external_tank + main_tank} gallons\n",
        "    \"\"\"\n",
        "\n",
        "print(mission_report(14, 51, \"Moon\", 200000, 300000))"
      ]
    },
    {
      "cell_type": "code",
      "execution_count": 39,
      "metadata": {},
      "outputs": [
        {
          "name": "stdout",
          "output_type": "stream",
          "text": [
            "\n",
            "    Mission to Moon\n",
            "    Total travel time: 76 minutes\n",
            "    Total fuel left: 500000\n",
            "    \n"
          ]
        }
      ],
      "source": [
        "# Escribe tu nueva función de reporte considerando lo anterior\n",
        "\n",
        "def mission_report(destination, *minutes, **fuel_reservoirs):\n",
        "    return f\"\"\"\n",
        "    Mission to {destination}\n",
        "    Total travel time: {sum(minutes)} minutes\n",
        "    Total fuel left: {sum(fuel_reservoirs.values())}\n",
        "    \"\"\"\n",
        "\n",
        "print(mission_report(\"Moon\", 10, 15, 51, main=300000, external=200000))"
      ]
    },
    {
      "cell_type": "code",
      "execution_count": 47,
      "metadata": {},
      "outputs": [
        {
          "name": "stdout",
          "output_type": "stream",
          "text": [
            "\n",
            "    Mission to Moon\n",
            "    Total travel time: 74 minutes\n",
            "    Total fuel left: 500000\n",
            "    main tank --> 300000 gallons left\n",
            "external tank --> 200000 gallons left\n",
            "\n"
          ]
        }
      ],
      "source": [
        "# Escribe tu nueva función\n",
        "\n",
        "def mission_report(destination, *minutes, **fuel_reservoirs):\n",
        "    main_report = f\"\"\"\n",
        "    Mission to {destination}\n",
        "    Total travel time: {sum(minutes)} minutes\n",
        "    Total fuel left: {sum(fuel_reservoirs.values())}\n",
        "    \"\"\"\n",
        "    for tank_name, gallons in fuel_reservoirs.items():\n",
        "        main_report += f\"{tank_name} tank --> {gallons} gallons left\\n\"\n",
        "    return main_report\n",
        "\n",
        "print(mission_report(\"Moon\", 8, 11, 55, main=300000, external=200000))"
      ]
    },
    {
      "cell_type": "markdown",
      "metadata": {},
      "source": [
        "---\n",
        "\n",
        "Curso Propedútico de Python para Launch X - Innovacción Virtual.\n",
        "\n",
        "Material desarrollado con base en los contenidos de MSLearn y la metáfora de LaunchX, traducción e implementación por: Fernanda Ochoa - Learning Producer de LaunchX.\n",
        "\n",
        "Redes:\n",
        "* GitHub: [FernandaOchoa](https://github.com/FernandaOchoa)\n",
        "* Twitter: [@imonsh](https://twitter.com/imonsh)\n",
        "* Instagram: [fherz8a](https://www.instagram.com/fherz8a/)"
      ]
    }
  ],
  "metadata": {
    "interpreter": {
      "hash": "205095b8b86ea82a021a8fc2ffba2b3bc9f8d0be25999901963b225939f75778"
    },
    "kernelspec": {
      "display_name": "Python 3.8.10 64-bit ('tmp': conda)",
      "name": "python3"
    },
    "language_info": {
      "codemirror_mode": {
        "name": "ipython",
        "version": 3
      },
      "file_extension": ".py",
      "mimetype": "text/x-python",
      "name": "python",
      "nbconvert_exporter": "python",
      "pygments_lexer": "ipython3",
      "version": "3.8.10"
    },
    "nteract": {
      "version": "nteract-front-end@1.0.0"
    },
    "orig_nbformat": 4
  },
  "nbformat": 4,
  "nbformat_minor": 2
}
